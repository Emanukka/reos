{
  "cells": [
    {
      "cell_type": "code",
      "execution_count": null,
      "metadata": {
        "colab": {
          "base_uri": "https://localhost:8080/"
        },
        "id": "JM_osJdhR-gF",
        "outputId": "f70d133d-e454-419a-bce7-304a00e09d93"
      },
      "outputs": [
        {
          "name": "stdout",
          "output_type": "stream",
          "text": [
            "Cloning into 'reos'...\n",
            "remote: Enumerating objects: 418, done.\u001b[K\n",
            "remote: Counting objects: 100% (418/418), done.\u001b[K\n",
            "remote: Compressing objects: 100% (281/281), done.\u001b[K\n",
            "remote: Total 418 (delta 180), reused 348 (delta 113), pack-reused 0 (from 0)\u001b[K\n",
            "Receiving objects: 100% (418/418), 1.01 MiB | 16.43 MiB/s, done.\n",
            "Resolving deltas: 100% (180/180), done.\n"
          ]
        }
      ],
      "source": [
        "! git clone https://github.com/Emanukka/reos.git"
      ]
    },
    {
      "cell_type": "code",
      "execution_count": null,
      "metadata": {
        "colab": {
          "base_uri": "https://localhost:8080/"
        },
        "id": "AUOGfkWCiUHt",
        "outputId": "1e60ab6c-e17a-46b1-b217-31c7bf3edef9"
      },
      "outputs": [
        {
          "name": "stdout",
          "output_type": "stream",
          "text": [
            "\n",
            "  stable-x86_64-unknown-linux-gnu installed - rustc 1.89.0 (29483883e 2025-08-04)\n",
            "\n",
            "\n",
            "Rust is installed now. Great!\n",
            "\n",
            "To get started you may need to restart your current shell.\n",
            "This would reload your PATH environment variable to include\n",
            "Cargo's bin directory ($HOME/.cargo/bin).\n",
            "\n",
            "To configure your current shell, you need to source\n",
            "the corresponding env file under $HOME/.cargo.\n",
            "\n",
            "This is usually done by running one of the following (note the leading DOT):\n",
            ". \"$HOME/.cargo/env\"            # For sh/bash/zsh/ash/dash/pdksh\n",
            "source \"$HOME/.cargo/env.fish\"  # For fish\n",
            "source $\"($nu.home-path)/.cargo/env.nu\"  # For nushell\n"
          ]
        },
        {
          "name": "stderr",
          "output_type": "stream",
          "text": [
            "info: downloading installer\n",
            "info: profile set to 'default'\n",
            "info: default host triple is x86_64-unknown-linux-gnu\n",
            "info: syncing channel updates for 'stable-x86_64-unknown-linux-gnu'\n",
            "info: latest update on 2025-08-07, rust version 1.89.0 (29483883e 2025-08-04)\n",
            "info: downloading component 'cargo'\n",
            "info: downloading component 'clippy'\n",
            "info: downloading component 'rust-docs'\n",
            "info: downloading component 'rust-std'\n",
            "info: downloading component 'rustc'\n",
            "info: downloading component 'rustfmt'\n",
            "info: installing component 'cargo'\n",
            "info: installing component 'clippy'\n",
            "info: installing component 'rust-docs'\n",
            "info: installing component 'rust-std'\n",
            "info: installing component 'rustc'\n",
            "info: installing component 'rustfmt'\n",
            "info: default toolchain set to 'stable-x86_64-unknown-linux-gnu'\n"
          ]
        }
      ],
      "source": [
        "# install rust compiler\n",
        "%%bash\n",
        "curl --proto '=https' --tlsv1.2 -sSf https://sh.rustup.rs -o rustup_script.sh\n",
        "sh rustup_script.sh -y"
      ]
    },
    {
      "cell_type": "code",
      "execution_count": null,
      "metadata": {
        "colab": {
          "base_uri": "https://localhost:8080/"
        },
        "id": "4H11Y_ysm_7S",
        "outputId": "ca7cc02d-fac2-4eaf-c275-14c577e95f19"
      },
      "outputs": [
        {
          "name": "stdout",
          "output_type": "stream",
          "text": [
            "rustc 1.89.0 (29483883e 2025-08-04)\n"
          ]
        }
      ],
      "source": [
        "%%bash\n",
        "export PATH=\"$HOME/.cargo/bin:$PATH\"\n",
        "\n",
        "rustc --version"
      ]
    },
    {
      "cell_type": "code",
      "execution_count": null,
      "metadata": {
        "colab": {
          "base_uri": "https://localhost:8080/"
        },
        "id": "jQhMweZUio0W",
        "outputId": "e2fdd8e2-96d5-4aa4-a02c-cafe971a5d12"
      },
      "outputs": [
        {
          "name": "stdout",
          "output_type": "stream",
          "text": [
            "Collecting maturin\n",
            "  Downloading maturin-1.9.3-py3-none-manylinux_2_12_x86_64.manylinux2010_x86_64.musllinux_1_1_x86_64.whl.metadata (16 kB)\n",
            "Downloading maturin-1.9.3-py3-none-manylinux_2_12_x86_64.manylinux2010_x86_64.musllinux_1_1_x86_64.whl (8.8 MB)\n",
            "\u001b[2K   \u001b[90m━━━━━━━━━━━━━━━━━━━━━━━━━━━━━━━━━━━━━━━━\u001b[0m \u001b[32m8.8/8.8 MB\u001b[0m \u001b[31m16.9 MB/s\u001b[0m eta \u001b[36m0:00:00\u001b[0m\n",
            "\u001b[?25hInstalling collected packages: maturin\n",
            "Successfully installed maturin-1.9.3\n"
          ]
        }
      ],
      "source": [
        "# install maturin via pip\n",
        "!pip install maturin"
      ]
    },
    {
      "cell_type": "code",
      "execution_count": null,
      "metadata": {
        "colab": {
          "base_uri": "https://localhost:8080/"
        },
        "id": "NXPzpRFpmiWJ",
        "outputId": "0ee450ee-bb76-4f2d-aa7d-2c3fc8346631"
      },
      "outputs": [
        {
          "name": "stderr",
          "output_type": "stream",
          "text": [
            "    Updating crates.io index\n",
            "     Locking 50 packages to latest compatible versions\n",
            "      Adding numpy v0.24.0 (available: v0.25.0)\n",
            "      Adding pyo3 v0.24.2 (available: v0.25.1)\n",
            " Downloading crates ...\n",
            "  Downloaded approx v0.5.1\n",
            "  Downloaded heck v0.5.0\n",
            "  Downloaded itoa v1.0.15\n",
            "  Downloaded autocfg v1.5.0\n",
            "  Downloaded cfg-if v1.0.1\n",
            "  Downloaded inventory v0.3.20\n",
            "  Downloaded indoc v2.0.6\n",
            "  Downloaded unindent v0.2.4\n",
            "  Downloaded pyo3-macros v0.24.2\n",
            "  Downloaded memoffset v0.9.1\n",
            "  Downloaded paste v1.0.15\n",
            "  Downloaded thiserror v2.0.12\n",
            "  Downloaded unicode-ident v1.0.18\n",
            "  Downloaded simba v0.9.0\n",
            "  Downloaded typenum v1.18.0\n",
            "  Downloaded wide v0.7.33\n",
            "  Downloaded pyo3-macros-backend v0.24.2\n",
            "  Downloaded num-bigint v0.4.6\n",
            "  Downloaded serde_json v1.0.142\n",
            "  Downloaded memchr v2.7.5\n",
            "  Downloaded serde v1.0.219\n",
            "  Downloaded portable-atomic v1.11.1\n",
            "  Downloaded safe_arch v0.7.4\n",
            "  Downloaded pyo3-ffi v0.24.2\n",
            "  Downloaded proc-macro2 v1.0.95\n",
            "  Downloaded portable-atomic-util v0.2.4\n",
            "  Downloaded numpy v0.24.0\n",
            "  Downloaded syn v2.0.104\n",
            "  Downloaded ndarray v0.16.1\n",
            "  Downloaded matrixmultiply v0.3.10\n",
            "  Downloaded serde_derive v1.0.219\n",
            "  Downloaded nalgebra v0.33.2\n",
            "  Downloaded ryu v1.0.20\n",
            "  Downloaded num-traits v0.2.19\n",
            "  Downloaded num-complex v0.4.6\n",
            "  Downloaded bytemuck v1.23.2\n",
            "  Downloaded thiserror-impl v2.0.12\n",
            "  Downloaded target-lexicon v0.13.2\n",
            "  Downloaded quote v1.0.40\n",
            "  Downloaded pyo3-build-config v0.24.2\n",
            "  Downloaded once_cell v1.21.3\n",
            "  Downloaded num-rational v0.4.2\n",
            "  Downloaded num-integer v0.1.46\n",
            "  Downloaded rustversion v1.0.22\n",
            "  Downloaded rustc-hash v2.1.1\n",
            "  Downloaded nalgebra-macros v0.2.2\n",
            "  Downloaded rawpointer v0.2.1\n",
            "  Downloaded libc v0.2.174\n",
            "  Downloaded pyo3 v0.24.2\n",
            "🔗 Found pyo3 bindings\n",
            "🐍 Found CPython 3.11 at /usr/bin/python3\n",
            "📡 Using build options features from pyproject.toml\n",
            "   Compiling autocfg v1.5.0\n",
            "   Compiling target-lexicon v0.13.2\n",
            "   Compiling proc-macro2 v1.0.95\n",
            "   Compiling unicode-ident v1.0.18\n",
            "   Compiling pyo3-build-config v0.24.2\n",
            "   Compiling once_cell v1.21.3\n",
            "   Compiling quote v1.0.40\n",
            "   Compiling syn v2.0.104\n",
            "   Compiling num-traits v0.2.19\n",
            "   Compiling matrixmultiply v0.3.10\n",
            "   Compiling num-integer v0.1.46\n",
            "   Compiling num-complex v0.4.6\n",
            "   Compiling pyo3-ffi v0.24.2\n",
            "   Compiling pyo3-macros-backend v0.24.2\n",
            "   Compiling bytemuck v1.23.2\n",
            "   Compiling paste v1.0.15\n",
            "   Compiling rawpointer v0.2.1\n",
            "   Compiling libc v0.2.174\n",
            "   Compiling safe_arch v0.7.4\n",
            "   Compiling memoffset v0.9.1\n",
            "   Compiling serde v1.0.219\n",
            "   Compiling heck v0.5.0\n",
            "   Compiling typenum v1.18.0\n",
            "   Compiling wide v0.7.33\n",
            "   Compiling serde_derive v1.0.219\n",
            "   Compiling approx v0.5.1\n",
            "   Compiling pyo3 v0.24.2\n",
            "   Compiling serde_json v1.0.142\n",
            "   Compiling thiserror v2.0.12\n",
            "   Compiling simba v0.9.0\n",
            "   Compiling pyo3-macros v0.24.2\n",
            "   Compiling ndarray v0.16.1\n",
            "   Compiling nalgebra-macros v0.2.2\n",
            "   Compiling thiserror-impl v2.0.12\n",
            "   Compiling num-rational v0.4.2\n",
            "   Compiling numpy v0.24.0\n",
            "   Compiling unindent v0.2.4\n",
            "   Compiling memchr v2.7.5\n",
            "   Compiling cfg-if v1.0.1\n",
            "   Compiling inventory v0.3.20\n",
            "   Compiling indoc v2.0.6\n",
            "   Compiling itoa v1.0.15\n",
            "   Compiling ryu v1.0.20\n",
            "   Compiling nalgebra v0.33.2\n",
            "   Compiling rustc-hash v2.1.1\n",
            "   Compiling reos v0.1.0 (/content/reos/crates/reos)\n",
            "warning: unused import: `tools::newton`\n",
            " --> /content/reos/crates/reos/src/phase_equilibrium/stability.rs:3:153\n",
            "  |\n",
            "3 | ...:DensityInitialization, eos::{EosError, EosResult}, State}, tools::newton};\n",
            "  |                                                                ^^^^^^^^^^^^^\n",
            "  |\n",
            "  = note: `#[warn(unused_imports)]` on by default\n",
            "\n",
            "warning: unused imports: `residual::Residual` and `state::State`\n",
            " --> /content/reos/crates/reos/src/phase_equilibrium/bubble_dew.rs:1:13\n",
            "  |\n",
            "1 | use crate::{residual::Residual, state::State};\n",
            "  |             ^^^^^^^^^^^^^^^^^^  ^^^^^^^^^^^^\n",
            "\n",
            "warning: unused import: `ndarray::Array1`\n",
            " --> /content/reos/crates/reos/src/tools.rs:3:5\n",
            "  |\n",
            "3 | use ndarray::Array1;\n",
            "  |     ^^^^^^^^^^^^^^^\n",
            "\n",
            "warning: value assigned to `mat_error` is never read\n",
            "   --> /content/reos/crates/reos/src/models/cpa/associative.rs:182:17\n",
            "    |\n",
            "182 |         let mut mat_error:Array1<f64> = Array1::zeros(ns);\n",
            "    |                 ^^^^^^^^^\n",
            "    |\n",
            "    = help: maybe it is overwritten before being read?\n",
            "    = note: `#[warn(unused_assignments)]` on by default\n",
            "\n",
            "warning: unused variable: `n`\n",
            "   --> /content/reos/crates/reos/src/models/cpa/associative.rs:254:13\n",
            "    |\n",
            "254 |         let n =nassoc.len();\n",
            "    |             ^ help: if this is intentional, prefix it with an underscore: `_n`\n",
            "    |\n",
            "    = note: `#[warn(unused_variables)]` on by default\n",
            "\n",
            "warning: value assigned to `f0` is never read\n",
            "  --> /content/reos/crates/reos/src/state/density_solver.rs:97:17\n",
            "   |\n",
            "97 |         let mut f0: f64 = 1.;\n",
            "   |                 ^^\n",
            "   |\n",
            "   = help: maybe it is overwritten before being read?\n",
            "\n",
            "warning: struct `NonBondedSites` is never constructed\n",
            "  --> /content/reos/crates/reos/src/models/cpa/associative.rs:18:8\n",
            "   |\n",
            "18 | struct NonBondedSites{\n",
            "   |        ^^^^^^^^^^^^^^\n",
            "   |\n",
            "   = note: `#[warn(dead_code)]` on by default\n",
            "\n",
            "warning: associated function `default` is never used\n",
            "  --> /content/reos/crates/reos/src/phase_equilibrium/mod.rs:37:8\n",
            "   |\n",
            "35 | impl Antoine {\n",
            "   | ------------ associated function in this implementation\n",
            "36 |\n",
            "37 |     fn default(shape:usize)->Self{\n",
            "   |        ^^^^^^^\n",
            "\n",
            "warning: `reos` (lib) generated 8 warnings (run `cargo fix --lib -p reos` to apply 3 suggestions)\n",
            "   Compiling reos_py v0.1.1 (/content/reos/crates/reos_py)\n",
            "warning: unused import: `PyValueError`\n",
            " --> src/py_eos/cpa/mod.rs:2:37\n",
            "  |\n",
            "2 | use pyo3::exceptions::{PyTypeError, PyValueError};\n",
            "  |                                     ^^^^^^^^^^^^\n",
            "  |\n",
            "  = note: `#[warn(unused_imports)]` on by default\n",
            "\n",
            "warning: unused import: `JsonStruct`\n",
            " --> src/py_eos/cpa/mod.rs:9:24\n",
            "  |\n",
            "9 | use reos::parameters::{JsonStruct, Parameters};\n",
            "  |                        ^^^^^^^^^^\n",
            "\n",
            "warning: unused import: `reos::state::State`\n",
            "  --> src/py_eos/cpa/mod.rs:11:5\n",
            "   |\n",
            "11 | use reos::state::State;\n",
            "   |     ^^^^^^^^^^^^^^^^^^\n",
            "\n",
            "warning: unused imports: `PyArrayMethods`, `PyArray`, and `array`\n",
            " --> src/py_eos/cpa/py_association.rs:1:13\n",
            "  |\n",
            "1 | use numpy::{array, IntoPyArray, PyArray, PyArray1, PyArray2, PyArrayMethods};\n",
            "  |             ^^^^^               ^^^^^^^                      ^^^^^^^^^^^^^^\n",
            "\n",
            "warning: unused imports: `PyErr`, `PyResult`, `Py`, and `exceptions::PyTypeError`\n",
            " --> src/py_eos/cpa/py_association.rs:2:12\n",
            "  |\n",
            "2 | use pyo3::{exceptions::PyTypeError, pyclass, pymethods, types::PyTuple, Bound, Py, PyErr, PyResult, Python};\n",
            "  |            ^^^^^^^^^^^^^^^^^^^^^^^                                             ^^  ^^^^^  ^^^^^^^^\n",
            "\n",
            "warning: unused import: `crate::py_eos::py_residual::ResidualModel`\n",
            " --> src/py_eos/cpa/py_association.rs:7:5\n",
            "  |\n",
            "7 | use crate::py_eos::py_residual::ResidualModel;\n",
            "  |     ^^^^^^^^^^^^^^^^^^^^^^^^^^^^^^^^^^^^^^^^^\n",
            "\n",
            "warning: unused import: `associative::Associative`\n",
            " --> src/py_eos/py_residual.rs:9:30\n",
            "  |\n",
            "9 | use reos::{models::cpa::{CPA,associative::Associative}, residual::Residual, state::eos::EosResult, Array1};\n",
            "  |                              ^^^^^^^^^^^^^^^^^^^^^^^^\n",
            "\n",
            "warning: unused import: `pyclass_init`\n",
            " --> src/py_parameters/pyrecords.rs:1:21\n",
            "  |\n",
            "1 | use pyo3::{pyclass, pyclass_init, pymethods};\n",
            "  |                     ^^^^^^^^^^^^\n",
            "\n",
            "warning: unused import: `ToPyArray`\n",
            " --> src/py_eq/mod.rs:1:39\n",
            "  |\n",
            "1 | use numpy::{PyArray1, PyArrayMethods, ToPyArray};\n",
            "  |                                       ^^^^^^^^^\n",
            "\n",
            "warning: unused import: `Python`\n",
            " --> src/py_eq/mod.rs:2:96\n",
            "  |\n",
            "2 | use pyo3::{exceptions::PyValueError, pyclass, pymethods, types::PyAnyMethods, Bound, PyResult, Python};\n",
            "  |                                                                                                ^^^^^^\n",
            "\n",
            "warning: unused import: `eos::EosError`\n",
            " --> src/py_eq/mod.rs:3:107\n",
            "  |\n",
            "3 | use reos::{phase_equilibrium::{Antoine, PhaseEquilibrium}, state::{density_solver::DensityInitialization, eos::EosError}};\n",
            "  |                                                                                                           ^^^^^^^^^^^^^\n",
            "\n",
            "warning: unused import: `Parameters`\n",
            " --> src/py_eos/cpa/mod.rs:9:36\n",
            "  |\n",
            "9 | use reos::parameters::{JsonStruct, Parameters};\n",
            "  |                                    ^^^^^^^^^^\n",
            "\n",
            "warning: irrefutable `if let` pattern\n",
            "  --> src/py_eos/cpa/mod.rs:67:12\n",
            "   |\n",
            "67 |         if let ResidualModel::CPA(cpa) = residual{\n",
            "   |            ^^^^^^^^^^^^^^^^^^^^^^^^^^^^^^^^^^^^^^\n",
            "   |\n",
            "   = note: this pattern will always match, so the `if let` is useless\n",
            "   = help: consider replacing the `if let` with a `let`\n",
            "   = note: `#[warn(irrefutable_let_patterns)]` on by default\n",
            "\n",
            "warning: irrefutable `if let` pattern\n",
            "   --> src/py_eos/cpa/mod.rs:104:12\n",
            "    |\n",
            "104 |         if let ResidualModel::CPA(cpa) = residual{\n",
            "    |            ^^^^^^^^^^^^^^^^^^^^^^^^^^^^^^^^^^^^^^\n",
            "    |\n",
            "    = note: this pattern will always match, so the `if let` is useless\n",
            "    = help: consider replacing the `if let` with a `let`\n",
            "\n",
            "warning: field `0` is never read\n",
            " --> src/py_eq/mod.rs:8:22\n",
            "  |\n",
            "8 | pub struct PyAntoine(Antoine);\n",
            "  |            --------- ^^^^^^^\n",
            "  |            |\n",
            "  |            field in this struct\n",
            "  |\n",
            "  = help: consider removing this field\n",
            "  = note: `#[warn(dead_code)]` on by default\n",
            "\n",
            "warning: `reos_py` (lib) generated 15 warnings (run `cargo fix --lib -p reos_py` to apply 11 suggestions)\n",
            "    Finished `release` profile [optimized] target(s) in 1m 38s\n",
            "📦 Built wheel for CPython 3.11 to /content/reos/crates/reos_py/target/wheels/reos-0.1.1-cp311-cp311-manylinux_2_34_x86_64.whl\n"
          ]
        }
      ],
      "source": [
        "# change the dir to /content/reos/crates/reos_py, then compile reos with maturin\n",
        "%%bash\n",
        "export PATH=\"$HOME/.cargo/bin:$PATH\"\n",
        "cd /content/reos/crates/reos_py\n",
        "maturin build --release\n",
        "\n",
        "# .wheel file will be created inside /content/reos/crates/reos_py/target/wheels\n"
      ]
    },
    {
      "cell_type": "code",
      "execution_count": null,
      "metadata": {
        "colab": {
          "base_uri": "https://localhost:8080/"
        },
        "id": "luLDLYCMl_zP",
        "outputId": "01e2a054-f4d6-4e53-a279-85b0c407169a"
      },
      "outputs": [
        {
          "name": "stdout",
          "output_type": "stream",
          "text": [
            "Processing ./reos/crates/reos_py/target/wheels/reos-0.1.1-cp311-cp311-manylinux_2_34_x86_64.whl\n",
            "Installing collected packages: reos\n",
            "Successfully installed reos-0.1.1\n"
          ]
        }
      ],
      "source": [
        "# install the package via pip install\n",
        "!pip install /content/reos/crates/reos_py/target/wheels/reos-0.1.1-cp311-cp311-manylinux_2_34_x86_64.whl"
      ]
    },
    {
      "cell_type": "code",
      "execution_count": null,
      "metadata": {
        "id": "de5XMR-9K3db"
      },
      "outputs": [],
      "source": [
        "import sys\n",
        "import os\n",
        "\n",
        "#change the repository folder's name to not conflict with reos module\n",
        "# sys.path.append(\"freos/python_examples/\")\n"
      ]
    },
    {
      "cell_type": "code",
      "execution_count": 2,
      "metadata": {
        "id": "AAFq2njOLJL-"
      },
      "outputs": [],
      "source": [
        "from freos.python_examples.auxiliary_functions.parameters import *\n",
        "from freos.python_examples.auxiliary_functions.data import *\n",
        "from freos.python_examples.auxiliary_functions.vle_functions import *\n"
      ]
    },
    {
      "cell_type": "code",
      "execution_count": 5,
      "metadata": {
        "colab": {
          "base_uri": "https://localhost:8080/",
          "height": 296
        },
        "id": "ZBcNYOUWTkKU",
        "outputId": "492f6b15-0a39-46cd-bdf5-2e42a76ad3f9"
      },
      "outputs": [
        {
          "data": {
            "image/png": "[encoded data removed]",
            "text/plain": [
              "<Figure size 500x250 with 1 Axes>"
            ]
          },
          "metadata": {},
          "output_type": "display_data"
        }
      ],
      "source": [
        "pACOH_OCT=CPAParameters.from_records(\n",
        "    cubic=[c_acoh,c_octane],\n",
        "    assoc=[a_acoh,a_octane])\n",
        "\n",
        "pACOH_OCT.set_cubic_binary(0,1,0.0, 0.064)\n",
        "\n",
        "ACOH_OCT=EquationOfState.cpa(pACOH_OCT)# print(pWATER_ACETIC.as_string())\n",
        "\n",
        "# peq=PhaseEquilibrium(ACOH_OCT)\n",
        "\n",
        "antoine=np.array([acoh_antoine,octane_antoine])\n",
        "# p,y,vx=vle_diagram(T,peq,factor=1e3)\n",
        "\n",
        "xorv,porv=acoh_octane[\"orv\"]\n",
        "xbol,pbol=acoh_octane[\"bol\"]\n",
        "exp_data=[xorv,porv,xbol,pbol]\n",
        "\n",
        "T=343.2\n",
        "\n",
        "PRES,LIQUID,VAPOR=linspace_bubble_p(ACOH_OCT,T,antoine,N=100)\n",
        "\n",
        "bubble_diagram(\n",
        "   PRES,\n",
        "   LIQUID,\n",
        "   VAPOR,\n",
        "   factor=1e3,\n",
        "   y_figsize=2.5,\n",
        "   x_figsize=5,\n",
        "   y_inf=15,\n",
        "   y_sup=30,\n",
        "   text=f\"{T}K\",\n",
        "   title=\"Acetic Acid 1A(1) and Octane(2)\",\n",
        "   y_label=\"P/kPa\",\n",
        "   x_label=r\"$x_1,y_1$\",\n",
        "   save_fig=False,\n",
        "\n",
        "   exp_data=exp_data)"
      ]
    }
  ],
  "metadata": {
    "colab": {
      "provenance": []
    },
    "kernelspec": {
      "display_name": "Python 3",
      "name": "python3"
    },
    "language_info": {
      "name": "python"
    }
  },
  "nbformat": 4,
  "nbformat_minor": 0
}
